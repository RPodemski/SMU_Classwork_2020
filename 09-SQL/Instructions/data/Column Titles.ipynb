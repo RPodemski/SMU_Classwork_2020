{
 "cells": [
  {
   "cell_type": "code",
   "execution_count": 1,
   "metadata": {},
   "outputs": [],
   "source": [
    "import pandas as pd"
   ]
  },
  {
   "cell_type": "code",
   "execution_count": 4,
   "metadata": {},
   "outputs": [],
   "source": [
    "deptPath = pd.read_csv(\"departments.csv\")\n",
    "deptEmpPath = pd.read_csv(\"dept_emp.csv\")\n",
    "deptManPath = pd.read_csv(\"dept_manager.csv\")\n",
    "empPath = pd.read_csv(\"employees.csv\")\n",
    "salPath = pd.read_csv(\"salaries.csv\")\n",
    "titlePath = pd.read_csv(\"titles.csv\")"
   ]
  },
  {
   "cell_type": "code",
   "execution_count": 5,
   "metadata": {},
   "outputs": [],
   "source": [
    "deptDF = pd.DataFrame(deptPath)\n",
    "deptEmpDF = pd.DataFrame(deptEmpPath)\n",
    "deptManDF = pd.DataFrame(deptManPath)\n",
    "empDF = pd.DataFrame(empPath)\n",
    "salDF = pd.DataFrame(salPath)\n",
    "titleDF = pd.DataFrame(titlePath)"
   ]
  },
  {
   "cell_type": "code",
   "execution_count": 7,
   "metadata": {},
   "outputs": [
    {
     "name": "stdout",
     "output_type": "stream",
     "text": [
      "Index(['dept_no', 'dept_name'], dtype='object')\n",
      "Index(['emp_no', 'dept_no'], dtype='object')\n",
      "Index(['dept_no', 'emp_no'], dtype='object')\n",
      "Index(['emp_no', 'emp_title_id', 'birth_date', 'first_name', 'last_name',\n",
      "       'sex', 'hire_date'],\n",
      "      dtype='object')\n",
      "Index(['emp_no', 'salary'], dtype='object')\n",
      "Index(['title_id', 'title'], dtype='object')\n"
     ]
    }
   ],
   "source": [
    "print(deptDF.columns)\n",
    "print(deptEmpDF.columns)\n",
    "print(deptManDF.columns)\n",
    "print(empDF.columns)\n",
    "print(salDF.columns)\n",
    "print(titleDF.columns)"
   ]
  },
  {
   "cell_type": "code",
   "execution_count": null,
   "metadata": {},
   "outputs": [],
   "source": []
  }
 ],
 "metadata": {
  "kernelspec": {
   "display_name": "Python 3",
   "language": "python",
   "name": "python3"
  },
  "language_info": {
   "codemirror_mode": {
    "name": "ipython",
    "version": 3
   },
   "file_extension": ".py",
   "mimetype": "text/x-python",
   "name": "python",
   "nbconvert_exporter": "python",
   "pygments_lexer": "ipython3",
   "version": "3.8.3"
  }
 },
 "nbformat": 4,
 "nbformat_minor": 4
}
